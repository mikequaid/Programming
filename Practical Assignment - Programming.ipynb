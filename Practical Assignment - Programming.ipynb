{
 "cells": [
  {
   "cell_type": "markdown",
   "metadata": {},
   "source": [
    "# Practical Assignment - Programming for Data Analysis"
   ]
  },
  {
   "cell_type": "markdown",
   "metadata": {},
   "source": [
    "## The purpose of numpy.random package\n",
    "\n",
    "The random module in Python's numpy package (note 1) is a tool which provides a suite of functions for generating random numbers, data and distributions. The module is comprised of \"simple random data\" (functions), \"permutations\", \"distributions\" and \"random generators. The module is also capable of generating a vast amount of probability distributions (note 2). It uses a particular algorithm, called the Mersenne Twister to generate pseudorandom numbers (note 3).\n",
    "\n",
    "Note 1 - Numpy is a library for the Python programming language, adding support for large, multi-dimensional arrays and matrices, along with a large collection of high-level mathematical functions to operate on these arrays [1].\n",
    "\n",
    "Note 2 - A probability distribution is a statistical function that describes all the possible values and likelihoods that a random variable can take within a given range.The most common probability distribution is the normal distribution, or \"bell curve\" [2].\n",
    "\n",
    "Note 3 - The Mersenne Twister is a pseudorandom number generator (PRNG) and is the most widely used general-purpose PRNG.A PRNG also known as a deterministic random bit generator (DRBG) is an algorithm for generating a sequence of numbers whose properties approximate the properties of sequences of random numbers [3].\n",
    "\n"
   ]
  },
  {
   "cell_type": "markdown",
   "metadata": {},
   "source": [
    "## Use of “Simple random data” functions in numpy.random package\n",
    "\n",
    "The random module's simple random data section is a collection of ten functions (see list below) which perform different tasks. \n",
    "\n",
    "In the following sections I show a use for the following:\n",
    " - random.choice() function, generates a random sample from a given 1-D array.\n",
    " - random.randint() function, which returns random integers from two parameters,lowest number (inclusive) to highest number (exclusive).\n",
    "\n",
    "<img src=\"Images/Simple.PNG\">\n"
   ]
  },
  {
   "cell_type": "code",
   "execution_count": 8,
   "metadata": {},
   "outputs": [
    {
     "data": {
      "text/plain": [
       "'Yellow'"
      ]
     },
     "execution_count": 8,
     "metadata": {},
     "output_type": "execute_result"
    }
   ],
   "source": [
    "# Choosing an item at random, for example picking a colour from a list\n",
    "\n",
    "import random\n",
    "random.choice(['Red', 'Yellow', 'Orange', 'Green','White'])"
   ]
  },
  {
   "cell_type": "code",
   "execution_count": 9,
   "metadata": {},
   "outputs": [
    {
     "data": {
      "text/plain": [
       "1"
      ]
     },
     "execution_count": 9,
     "metadata": {},
     "output_type": "execute_result"
    }
   ],
   "source": [
    "# Picking a random number in a given range, for example picking a winner from a list of numbers from 1 to 10\n",
    "\n",
    "import random\n",
    "random.randint(1, 10)\n"
   ]
  },
  {
   "attachments": {},
   "cell_type": "markdown",
   "metadata": {},
   "source": [
    "## Use of “Permutations” functions in numpy.random package\n",
    "\n",
    "The permutations funstion, randomly permute a sequence or return a permuted range.\n",
    "\n",
    "<img src=\"Images/Permutations.PNG\">"
   ]
  },
  {
   "cell_type": "code",
   "execution_count": 10,
   "metadata": {},
   "outputs": [
    {
     "data": {
      "text/plain": [
       "['Tara', 'Liam', 'Aine', 'Laura', 'Lia']"
      ]
     },
     "execution_count": 10,
     "metadata": {},
     "output_type": "execute_result"
    }
   ],
   "source": [
    "# Shuffling a list of items randomly,for example if there was a Christmas kid's party \n",
    "# and you needed a sequence of who sees Santa you could run the list of kids names though the shuffle function\n",
    "\n",
    "import random\n",
    "santa = ['Tara', 'Aine', 'Liam', 'Laura','Lia']\n",
    "random.shuffle(santa)\n",
    "santa"
   ]
  },
  {
   "cell_type": "markdown",
   "metadata": {},
   "source": [
    "## Use and purpose of “Distributions” functions\n",
    "\n",
    "\n",
    "A probability distribution is a statistical function that describes all the possible values and likelihoods that a random variable can take within a given range [4].\n",
    "Numpy's random distribution functions is a suite of probabilty distributions of many different types.\n",
    "\n"
   ]
  },
  {
   "cell_type": "markdown",
   "metadata": {},
   "source": [
    "## Normal Distribution [4]:\n",
    "\n",
    "The normal distribution (also known as the Gaussian distribution or bell curve) is the most important probability distribution in statistics because it fits many natural phenomena. For example, heights, blood pressure, measurement error, and IQ scores follow the normal distribution.\n",
    "\n",
    "The normal distribution is symmetric and most of the observations cluster around the central peak and the probabilities for values further away from the mean taper off equally in both directions. Extreme values in both tails of the distribution are also unlikely, they are know as outliers.\n",
    "\n",
    "The parameters for the normal distribution define its shape and probabilities. The normal distribution has two parameters, the mean and standard deviation:\n",
    "\n",
    "The mean (M) is the central tendency of the distribution. It defines the location of the peak for normal distributions. Most values cluster around the mean.\n",
    "\n",
    "The standard deviation (SD) is a measure of variability. It defines the width of the normal distribution. The standard deviation determines how far away from the mean the values tend to fall. It represents the typical distance between the observations and the average.\n"
   ]
  },
  {
   "cell_type": "code",
   "execution_count": 4,
   "metadata": {},
   "outputs": [
    {
     "data": {
      "text/plain": [
       "<matplotlib.figure.Figure at 0x6ac5fd0>"
      ]
     },
     "metadata": {},
     "output_type": "display_data"
    }
   ],
   "source": [
    "# Example of Normal Distribution\n",
    "# numpy.random.normal draws random samples from a normal distribution\n",
    "# It has three parameters: location (M), scale (SD) and size (optional)\n",
    "\n",
    "import numpy as np\n",
    "import matplotlib.pyplot as plt\n",
    "\n",
    "mu, sigma = 0.5, 0.1 # Create Mean and Standard Deviation variables\n",
    "s = np.random.normal(mu, sigma, 1000)\n",
    " \n",
    "count, bins, ignored = plt.hist(s, 20, normed=True) # Create the bins and histogram \n",
    "\n",
    "# Plot the distribution curve\n",
    "plt.plot(bins, 1/(sigma * np.sqrt(2 * np.pi)) *\n",
    "    np.exp( - (bins - mu)**2 / (2 * sigma**2) ),       linewidth=3, color='r')\n",
    "plt.show()"
   ]
  },
  {
   "cell_type": "markdown",
   "metadata": {},
   "source": [
    "## Poisson Distribution [5]\n",
    "\n",
    "Poisson Distribution measures the probability that a certain number of events occur within a certain period of time. The events need to be unrelated to each other. They also need to occur with a known average rate.\n",
    "\n",
    "Examples of Poisson Distribution:\n",
    " - The number of telephone calls a call center receives per hour.Call centres would measure the average call duration and would be able measure the total time required to handle calls and in turn calculate the required headcount\n",
    " - The number of insurance claims experienced in a given period of time [6].This claims experience would be used to calculate claim frequency and claim frequency is a key assumption in claim costs reserving,forecasting profitability and re-pricing insurance premiums"
   ]
  },
  {
   "cell_type": "code",
   "execution_count": 5,
   "metadata": {},
   "outputs": [
    {
     "data": {
      "image/png": "[encoded data removed]",
      "text/plain": [
       "<matplotlib.figure.Figure at 0x6ac5a30>"
      ]
     },
     "metadata": {},
     "output_type": "display_data"
    }
   ],
   "source": [
    "# Example of Poisson Distribution\n",
    "\n",
    "import numpy as np\n",
    "pois = np.random.poisson(9, 15000) # Drawing samples from the distribution\n",
    "\n",
    "import matplotlib.pyplot as plt # Display a histogram of random Poisson samples\n",
    "plt.hist(pois, 16, density=True, color='b') # Adding sample count, amount of bins and density function line (True = normal)                                \n",
    "plt.ylabel('Frequency') # label y axis\n",
    "plt.xlabel('Count') # label my x axis \n",
    "plt.title('Poisson Distribution') # Chart title\n",
    "plt.show()"
   ]
  },
  {
   "cell_type": "markdown",
   "metadata": {},
   "source": [
    "## Binomial Distribution\n",
    "\n",
    "A binomial distribution can be thought of as simply the probability of a SUCCESS or FAILURE outcome in an experiment or survey that is repeated multiple times. The binomial is a type of distribution that has two possible outcomes (the prefix “bi” means two, or twice). For example, a coin toss has only two possible outcomes: heads or tails and taking a test could have two possible outcomes: pass or fail [7]."
   ]
  },
  {
   "cell_type": "code",
   "execution_count": 6,
   "metadata": {},
   "outputs": [
    {
     "name": "stdout",
     "output_type": "stream",
     "text": [
      "2490\n"
     ]
    }
   ],
   "source": [
    "# Example of Binomial Distribution\n",
    "\n",
    "n, p = 10, .25  # number of trials, 50% probability of each trial being heads\n",
    "s = np.random.binomial(n, p, 1000) # result of flipping a coin 10 times, tested 1000 times.\n",
    "print(sum(s)) # number of heads"
   ]
  },
  {
   "cell_type": "code",
   "execution_count": 7,
   "metadata": {},
   "outputs": [
    {
     "ename": "NameError",
     "evalue": "name 'bernoulli' is not defined",
     "output_type": "error",
     "traceback": [
      "\u001b[1;31m---------------------------------------------------------------------------\u001b[0m",
      "\u001b[1;31mNameError\u001b[0m                                 Traceback (most recent call last)",
      "\u001b[1;32m<ipython-input-7-b9b058b3711d>\u001b[0m in \u001b[0;36m<module>\u001b[1;34m()\u001b[0m\n\u001b[0;32m      2\u001b[0m \u001b[0mget_ipython\u001b[0m\u001b[1;33m(\u001b[0m\u001b[1;33m)\u001b[0m\u001b[1;33m.\u001b[0m\u001b[0mrun_line_magic\u001b[0m\u001b[1;33m(\u001b[0m\u001b[1;34m'matplotlib'\u001b[0m\u001b[1;33m,\u001b[0m \u001b[1;34m'inline'\u001b[0m\u001b[1;33m)\u001b[0m\u001b[1;33m\u001b[0m\u001b[0m\n\u001b[0;32m      3\u001b[0m \u001b[1;33m\u001b[0m\u001b[0m\n\u001b[1;32m----> 4\u001b[1;33m \u001b[0mplt\u001b[0m\u001b[1;33m.\u001b[0m\u001b[0mhist\u001b[0m\u001b[1;33m(\u001b[0m\u001b[0mbernoulli\u001b[0m\u001b[1;33m,\u001b[0m \u001b[0mdensity\u001b[0m\u001b[1;33m=\u001b[0m\u001b[1;32mTrue\u001b[0m\u001b[1;33m,\u001b[0m \u001b[0medgecolor\u001b[0m\u001b[1;33m=\u001b[0m\u001b[1;34m'k'\u001b[0m\u001b[1;33m)\u001b[0m    \u001b[1;31m# Adding sample count, amount of bins and density function line (True = normal),\u001b[0m\u001b[1;33m\u001b[0m\u001b[0m\n\u001b[0m\u001b[0;32m      5\u001b[0m                                                     \u001b[1;31m# and adding edgecolour to the bins\u001b[0m\u001b[1;33m\u001b[0m\u001b[1;33m\u001b[0m\u001b[0m\n\u001b[0;32m      6\u001b[0m \u001b[1;33m\u001b[0m\u001b[0m\n",
      "\u001b[1;31mNameError\u001b[0m: name 'bernoulli' is not defined"
     ]
    }
   ],
   "source": [
    "import matplotlib.pyplot as plt\n",
    "%matplotlib inline\n",
    "\n",
    "plt.hist(bernoulli, density=True, edgecolor='k')    # Adding sample count, amount of bins and density function line (True = normal),\n",
    "                                                    # and adding edgecolour to the bins\n",
    "\n",
    "# Configuring the details of the histogram output [3].\n",
    "\n",
    "plt.plot(linewidth=2, color='r', edgecolor= 'k')\n",
    "plt.ylabel('Frequency') # labelling my y axis\n",
    "plt.xlabel('Count') # labelling my x axis \n",
    "plt.title('Binomial distribution') # Adding title\n",
    "\n",
    "plt.show()"
   ]
  },
  {
   "cell_type": "markdown",
   "metadata": {},
   "source": [
    "# References:\n",
    "\n",
    "[1] (http://www.numpy.org/)\n",
    "\n",
    "[2] https://www.kean.edu/~fosborne/bstat/04prob.html\n",
    "\n",
    "[3] https://en.wikipedia.org/wiki/Mersenne_Twister\n",
    "\n",
    "[4] http://statisticsbyjim.com/basics/probability-distributions/\n",
    "\n",
    "[5] https://simple.wikipedia.org/wiki/Poisson_distribution\n",
    "\n",
    "[6] https://www.lewiswalsh.net/blog/why-do-we-use-the-poisson-distribution-to-model-claim-frequency\n",
    "\n",
    "[7] https://www.statisticshowto.datasciencecentral.com/probability-and-statistics/binomial-theorem/binomial-distribution-formula/\n",
    "\n",
    "\n"
   ]
  },
  {
   "cell_type": "code",
   "execution_count": null,
   "metadata": {},
   "outputs": [],
   "source": []
  }
 ],
 "metadata": {
  "kernelspec": {
   "display_name": "Python 3",
   "language": "python",
   "name": "python3"
  },
  "language_info": {
   "codemirror_mode": {
    "name": "ipython",
    "version": 3
   },
   "file_extension": ".py",
   "mimetype": "text/x-python",
   "name": "python",
   "nbconvert_exporter": "python",
   "pygments_lexer": "ipython3",
   "version": "3.6.4"
  }
 },
 "nbformat": 4,
 "nbformat_minor": 2
}
