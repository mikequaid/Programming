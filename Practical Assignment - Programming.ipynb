{
 "cells": [
  {
   "cell_type": "markdown",
   "metadata": {},
   "source": [
    "# Practical Assignment - Programming for Data Analysis "
   ]
  },
  {
   "cell_type": "markdown",
   "metadata": {},
   "source": [
    "## The purpose of numpy.random package\n",
    "\n",
    "The random module in Python's numpy package (note 1) is a tool which provides a suite of functions for generating random numbers, data and distributions. The module is comprised of \"simple random data\" (functions), \"permutations\", \"distributions\" and \"random generators. The module is also capable of generating a vast amount of probability distributions (note 2). It uses a particular algorithm, called the Mersenne Twister to generate pseudorandom numbers (note 3).\n",
    "\n",
    "Note 1 - Numpy is a library for the Python programming language, adding support for large, multi-dimensional arrays and matrices, along with a large collection of high-level mathematical functions to operate on these arrays [1].\n",
    "\n",
    "Note 2 - A probability distribution is a statistical function that describes all the possible values and likelihoods that a random variable can take within a given range.The most common probability distribution is the normal distribution, or \"bell curve\" [2].\n",
    "\n",
    "Note 3 - The Mersenne Twister is a pseudorandom number generator (PRNG) and is the most widely used general-purpose PRNG.A PRNG also known as a deterministic random bit generator (DRBG) is an algorithm for generating a sequence of numbers whose properties approximate the properties of sequences of random numbers [3].\n",
    "\n"
   ]
  },
  {
   "cell_type": "markdown",
   "metadata": {},
   "source": [
    "# Use of “Simple random data” functions in numpy.random package\n",
    "\n",
    "The random module's simple random data section is a collection of ten functions, which perform different tasks. The afforementioned random.choice() function above is an example of one of these functions.\n",
    "Another function example is the random.randint() function, which returns random integers from low (inclusive) to high (exclusive). We can also include a third size argument as seen below:\n",
    "\n",
    "![](Simple.JPG)\n"
   ]
  },
  {
   "cell_type": "code",
   "execution_count": 2,
   "metadata": {},
   "outputs": [
    {
     "data": {
      "text/plain": [
       "'Orange'"
      ]
     },
     "execution_count": 2,
     "metadata": {},
     "output_type": "execute_result"
    }
   ],
   "source": [
    "# Choosing an item at random \n",
    "\n",
    "import random\n",
    "random.choice(['Red', 'Yellow', 'Orange', 'Green','White'])"
   ]
  },
  {
   "cell_type": "markdown",
   "metadata": {},
   "source": [
    "# Use of “Permutations” functions in numpy.random package\n",
    "\n",
    "The random module's simple random data section is a collection of ten functions, which perform different tasks. The afforementioned random.choice() function above is an example of one of these functions.\n",
    "Another function example is the random.randint() function, which returns random integers from low (inclusive) to high (exclusive). We can also include a third size argument as seen below:\n"
   ]
  },
  {
   "cell_type": "code",
   "execution_count": null,
   "metadata": {},
   "outputs": [],
   "source": []
  },
  {
   "cell_type": "code",
   "execution_count": 4,
   "metadata": {},
   "outputs": [
    {
     "data": {
      "text/plain": [
       "['Yellow', 'Red', 'Green', 'White', 'Orange']"
      ]
     },
     "execution_count": 4,
     "metadata": {},
     "output_type": "execute_result"
    }
   ],
   "source": [
    "# Shuffling a list of items randomly\n",
    "\n",
    "import random\n",
    "colours = ['Red', 'Yellow', 'Orange', 'Green','White']\n",
    "random.shuffle(colours)\n",
    "colours"
   ]
  },
  {
   "cell_type": "markdown",
   "metadata": {},
   "source": [
    "# References:\n",
    "\n",
    "[1] (http://www.numpy.org/)\n",
    "\n",
    "[2] https://www.kean.edu/~fosborne/bstat/04prob.html\n",
    "\n",
    "[3] https://en.wikipedia.org/wiki/Mersenne_Twister\n"
   ]
  },
  {
   "cell_type": "code",
   "execution_count": null,
   "metadata": {},
   "outputs": [],
   "source": []
  }
 ],
 "metadata": {
  "kernelspec": {
   "display_name": "Python 3",
   "language": "python",
   "name": "python3"
  },
  "language_info": {
   "codemirror_mode": {
    "name": "ipython",
    "version": 3
   },
   "file_extension": ".py",
   "mimetype": "text/x-python",
   "name": "python",
   "nbconvert_exporter": "python",
   "pygments_lexer": "ipython3",
   "version": "3.6.4"
  }
 },
 "nbformat": 4,
 "nbformat_minor": 2
}
