{
 "cells": [
  {
   "cell_type": "markdown",
   "metadata": {},
   "source": [
    "# Practical Assignment - Programming for Data Analysis"
   ]
  },
  {
   "cell_type": "markdown",
   "metadata": {},
   "source": [
    "## The purpose of numpy.random package\n",
    "\n",
    "The random module in Python's numpy package (note 1) is a tool which provides a suite of functions for generating random numbers, data and distributions. The module is comprised of \"simple random data\" (functions), \"permutations\", \"distributions\" and \"random generators\". The module is also capable of generating a vast amount of probability distributions (note 2). It uses a particular algorithm, called the Mersenne Twister to generate pseudorandom numbers (note 3).\n",
    "\n",
    "Note 1 - Numpy is a library for the Python programming language, adding support for large, multi-dimensional arrays and matrices, along with a large collection of high-level mathematical functions to operate on these arrays [1].\n",
    "\n",
    "Note 2 - A probability distribution is a statistical function that describes all the possible values and likelihoods that a random variable can take within a given range.The most common probability distribution is the normal distribution, or \"bell curve\" [2].\n",
    "\n",
    "Note 3 - The Mersenne Twister is a pseudorandom number generator (PRNG) and is the most widely used general-purpose PRNG.A PRNG also known as a deterministic random bit generator (DRBG) is an algorithm for generating a sequence of numbers whose properties approximate the properties of sequences of random numbers [3].\n",
    "\n"
   ]
  },
  {
   "cell_type": "markdown",
   "metadata": {},
   "source": [
    "## Use of “Simple random data” functions in numpy.random package\n",
    "\n",
    "The random module's simple random data section is a collection of ten functions (see list below) which perform different tasks. \n",
    "\n",
    "In the following sections I will show a use for the following:\n",
    " - random.choice() function, generates a random sample from a given 1-D array.\n",
    " - random.randint() function, which returns random integers from two parameters,lowest number (inclusive) to highest number (exclusive).\n",
    "\n",
    "<img src=\"Images/Simple.PNG\">\n"
   ]
  },
  {
   "cell_type": "code",
   "execution_count": 1,
   "metadata": {},
   "outputs": [],
   "source": [
    "# Choosing an item at random, for example picking a colour from a list\n",
    "\n",
    "import random\n",
    "random.choice(['Red', 'Yellow', 'Orange', 'Green','White'])"
   ]
  },
  {
   "cell_type": "code",
   "execution_count": 2,
   "metadata": {},
   "outputs": [],
   "source": [
    "# Picking a random number in a given range, for example picking a winner from a list of numbers from 1 to 10\n",
    "\n",
    "import random\n",
    "random.randint(1, 10)"
   ]
  },
  {
   "cell_type": "code",
   "execution_count": 3,
   "metadata": {},
   "outputs": [
    {
     "data": {
      "text/plain": [
       "array([128,  85,  31,  33, 122])"
      ]
     },
     "execution_count": 3,
     "metadata": {},
     "output_type": "execute_result"
    }
   ],
   "source": [
    "# Picking 5 random seat numbers from an audience of 250\n",
    "# Specify a lower value,upper value and array size\n",
    "\n",
    "import numpy as np\n",
    "np.random.randint(1, 251, size=5) # array size is the volume of seat numbers to be picked randomly"
   ]
  },
  {
   "cell_type": "markdown",
   "metadata": {},
   "source": [
    "## Use of “Permutations” functions in numpy.random package\n",
    "\n",
    "The permutations has two functions as detailed below:\n",
    "\n",
    "<img src=\"Images/Permutations.PNG\">"
   ]
  },
  {
   "cell_type": "code",
   "execution_count": 4,
   "metadata": {},
   "outputs": [
    {
     "data": {
      "text/plain": [
       "['Aine', 'Liam', 'Tara', 'Laura', 'Lia']"
      ]
     },
     "execution_count": 4,
     "metadata": {},
     "output_type": "execute_result"
    }
   ],
   "source": [
    "# Shuffling a list of items randomly,for example if there was a Christmas kid's party \n",
    "# and you needed a sequence of who sees Santa you could run the list of kids names though the shuffle function\n",
    "\n",
    "import random\n",
    "santa = ['Tara', 'Aine', 'Liam', 'Laura','Lia']\n",
    "random.shuffle(santa)\n",
    "santa"
   ]
  },
  {
   "cell_type": "code",
   "execution_count": 5,
   "metadata": {},
   "outputs": [
    {
     "data": {
      "text/plain": [
       "array([2, 1, 7, 8, 3, 5, 4, 6])"
      ]
     },
     "execution_count": 5,
     "metadata": {},
     "output_type": "execute_result"
    }
   ],
   "source": [
    "# Randomly permute a sequence\n",
    "# Number sequence between 1 and 8\n",
    "import numpy as p\n",
    "p.random.permutation(range(1, 9))"
   ]
  },
  {
   "cell_type": "code",
   "execution_count": 21,
   "metadata": {},
   "outputs": [
    {
     "name": "stdout",
     "output_type": "stream",
     "text": [
      "120\n"
     ]
    }
   ],
   "source": [
    "# To calculate the number of different sequences of the 5 kids that are visiting santa\n",
    "# santa = ['Tara', 'Aine', 'Liam', 'Laura','Lia']\n",
    "# There are 120 different sequences of kids visiting santa\n",
    "import math\n",
    "p = math.factorial(len(santa))\n",
    "print(p)\n"
   ]
  },
  {
   "cell_type": "code",
   "execution_count": 22,
   "metadata": {},
   "outputs": [],
   "source": [
    "# the following function will print the 120 different sequences of kids names\n",
    "\n",
    "from itertools import permutations\n",
    "santa = ['Tara', 'Aine', 'Liam', 'Laura','Lia']\n",
    "p=list(permutations(santa))\n",
    "# print (p)"
   ]
  },
  {
   "cell_type": "markdown",
   "metadata": {},
   "source": [
    "## Use and purpose of “Distributions” functions\n",
    "\n",
    "\n",
    "A probability distribution is a statistical function that describes all the possible values and likelihoods that a random variable can take within a given range [4].\n",
    "Numpy's random distribution functions is a suite of probabilty distributions of many different types.\n",
    "\n"
   ]
  },
  {
   "cell_type": "markdown",
   "metadata": {},
   "source": [
    "## Normal Distribution:\n",
    "\n",
    "The normal distribution (also known as the Gaussian distribution or bell curve) is the most important probability distribution in statistics because it fits many natural phenomena. For example, heights, blood pressure, measurement error, and IQ scores follow the normal distribution [4].\n",
    "\n",
    "Properties of a normal distribution:\n",
    " - The mean, mode and median are all equal\n",
    " - The curve is symmetric at the center (i.e. around the mean, μ).and most of the observations cluster around the central peak and the probabilities for values further away from the mean taper off equally in both directions. Extreme values in both tails of the distribution are also unlikely, they are know as outliers\n",
    " - Exactly half of the values are to the left of center and exactly half the values are to the right\n",
    " - The total area under the curve is 1\n",
    "\n",
    "\n",
    "\n",
    "The parameters for the normal distribution define its shape and probabilities. The normal distribution has two parameters, the mean and standard deviation:\n",
    "\n",
    "The mean is the central tendency of the distribution. It defines the location of the peak for normal distributions. Most values cluster around the mean.\n",
    "\n",
    "The standard deviation (SD) is a measure of variability. It defines the width of the normal distribution. The standard deviation determines how far away from the mean the values tend to fall. It represents the typical distance between the observations and the average.\n"
   ]
  },
  {
   "cell_type": "code",
   "execution_count": 9,
   "metadata": {},
   "outputs": [
    {
     "data": {
      "image/png": "[encoded data removed]",
      "text/plain": [
       "<matplotlib.figure.Figure at 0x7c10f30>"
      ]
     },
     "metadata": {},
     "output_type": "display_data"
    }
   ],
   "source": [
    "# Example of Normal Distribution\n",
    "# numpy.random.normal draws random samples from a normal distribution\n",
    "# It has three parameters: location (Mean), scale (SD) and Size is optional\n",
    "\n",
    "%matplotlib inline\n",
    "import numpy as np\n",
    "import matplotlib.pyplot as plt\n",
    "\n",
    "mu, sigma = 0.5, 0.1 # Create Mean and Standard Deviation variables\n",
    "s = np.random.normal(mu, sigma, 1000)\n",
    " \n",
    "count, bins, ignored = plt.hist(s, 20, normed=True) # Create the bins and histogram \n",
    "\n",
    "# Plot the distribution curve\n",
    "plt.plot(bins, 1/(sigma * np.sqrt(2 * np.pi)) *\n",
    "    np.exp( - (bins - mu)**2 / (2 * sigma**2) ),       linewidth=3, color='r')\n",
    "plt.xlabel('Mean and standard deviations') # x axis label \n",
    "plt.title(' Normal distribution') # Add title\n",
    "plt.show()"
   ]
  },
  {
   "cell_type": "markdown",
   "metadata": {},
   "source": [
    "## Poisson Distribution:\n",
    "\n",
    "Poisson Distribution measures the probability that a certain number of events occur within a certain period of time. The events need to be unrelated to each other. They also need to occur with a known average rate [4] and [5].\n",
    "\n",
    "Applications of Poisson Distribution:\n",
    " - The number of telephone calls a call center receives per hour.Call centres would measure the average call duration and would be able measure the total time required to handle calls and in turn calculate the required headcount\n",
    " - The number of insurance claims experienced in a given period of time [6].This claims experience would be used to calculate claim frequency and claim frequency is a key assumption in claim costs reserving,forecasting profitability and re-pricing insurance premiums"
   ]
  },
  {
   "cell_type": "code",
   "execution_count": 10,
   "metadata": {},
   "outputs": [
    {
     "data": {
      "image/png": "[encoded data removed]",
      "text/plain": [
       "<matplotlib.figure.Figure at 0x6ee4f50>"
      ]
     },
     "metadata": {},
     "output_type": "display_data"
    }
   ],
   "source": [
    "# Example of Poisson Distribution\n",
    "\n",
    "import numpy as np\n",
    "pois = np.random.poisson(9, 15000) # Drawing samples from the distribution\n",
    "\n",
    "import matplotlib.pyplot as plt # Display a histogram of random Poisson samples\n",
    "plt.hist(pois, 16, density=True, color='b') # Adding sample count, amount of bins and density function line                              \n",
    "plt.ylabel('Frequency') # y axis label\n",
    "plt.xlabel('Count') # x axis label\n",
    "plt.title('Poisson Distribution') # Add title\n",
    "plt.show()"
   ]
  },
  {
   "cell_type": "markdown",
   "metadata": {},
   "source": [
    "## Binomial Distribution\n",
    "\n",
    "A binomial distribution can be thought of as simply the probability of a SUCCESS or FAILURE outcome in an experiment or survey that is repeated multiple times. The binomial is a type of distribution that has two possible outcomes (the prefix “bi” means two, or twice). For example, a coin toss has only two possible outcomes: heads or tails and taking a test could have two possible outcomes: pass or fail [4] and [7].\n",
    "\n",
    "The binomial distribution is probably the most commonly used discrete distribution."
   ]
  },
  {
   "cell_type": "code",
   "execution_count": 11,
   "metadata": {},
   "outputs": [
    {
     "name": "stdout",
     "output_type": "stream",
     "text": [
      "5054\n"
     ]
    }
   ],
   "source": [
    "# Example of Binomial Distribution\n",
    "\n",
    "n, p = 10, .5  # number of trials, 50% probability of each trial being heads\n",
    "s = np.random.binomial(n, p, 1000) # result of flipping a coin 10 times, tested 1000 times\n",
    "print(sum(s)) # number of heads"
   ]
  },
  {
   "cell_type": "code",
   "execution_count": 12,
   "metadata": {},
   "outputs": [
    {
     "data": {
      "image/png": "[encoded data removed]",
      "text/plain": [
       "<matplotlib.figure.Figure at 0x7ee89f0>"
      ]
     },
     "metadata": {},
     "output_type": "display_data"
    }
   ],
   "source": [
    "# plot the results of a binomial experiment\n",
    "\n",
    "%matplotlib inline\n",
    "import matplotlib.pyplot as plt\n",
    "\n",
    "# number of successful flips (out of 4) by running the experiment 500 times\n",
    "flips = 4\n",
    "prob = 0.5\n",
    "np.random.binomial(flips, prob)\n",
    "bernoulli = np.random.binomial(flips, prob, size = 500)\n",
    "\n",
    "plt.hist(bernoulli, density=True)    # Adding sample count, amount of bins and density function line(True = normal)\n",
    "\n",
    "# Configuring the details of the histogram output\n",
    "plt.ylabel('Frequency') # y axis label\n",
    "plt.xlabel('Count') # x axis label\n",
    "plt.title('Binomial distribution') # add a title\n",
    "\n",
    "plt.show()"
   ]
  },
  {
   "cell_type": "markdown",
   "metadata": {},
   "source": [
    "## Exponential Distribution:\n",
    "\n",
    "The exponential distribution (also called the negative exponential distribution) is a probability distribution\n",
    "that describes time between events in a Poisson process.\n",
    "There is a strong relationship between the Poisson distribution and the Exponential distribution [4] and [8].\n",
    "\n",
    "The exponential distribution is primarily used in reliability applications. The exponential distribution is used to model data with a constant failure rate eg.used to calculate the probability of parts failure over a period of time,it would be used by car manufacturers to determine warranty periods (normal warranty and extended warranty) and the expected costs for the manufacturer of these warranties.\n",
    "\n",
    "Probability density function (PDF) is a statistical expression that defines a probability distribution for a continuous random variable as opposed to a discrete random variable. When the PDF is graphically portrayed, the area under the curve will indicate the interval in which the variable will fall. The total area in this interval of the graph equals the probability of a continuous random variable occurring [9].\n"
   ]
  },
  {
   "cell_type": "code",
   "execution_count": 13,
   "metadata": {},
   "outputs": [
    {
     "data": {
      "image/png": "[encoded data removed]",
      "text/plain": [
       "<matplotlib.figure.Figure at 0x7f52710>"
      ]
     },
     "metadata": {},
     "output_type": "display_data"
    }
   ],
   "source": [
    "# Example of Exponential Distribution\n",
    "# scipy.stats:This module contains probability distributions and statistical functions\n",
    "# https://docs.scipy.org/doc/scipy/reference/stats.html\n",
    "\n",
    "import numpy as np\n",
    "import matplotlib.pyplot as plt\n",
    "from scipy.stats import expon\n",
    "\n",
    "exp = expon.rvs(size=1000) # Generate exponential sample data\n",
    "\n",
    "# Configuring the details of the histogram graph\n",
    "# Include sample count, number of bins and density function line (True = normal)\n",
    "# Add red edgecolour to the bins\n",
    "plt.hist(exp, 10, density=True, alpha=0.6, color='b', edgecolor='k')                                                 \n",
    "plt.title(\"Exponential distribution\") # add a title\n",
    "plt.ylabel('Probability Density') # y axis label\n",
    "plt.xlabel('Exponential sample data') # x axis label\n",
    "\n",
    "mu, std = expon.fit(exp) # Fit exponential distribution to the data(exp)\n",
    "\n",
    "# Display the probability density function:\n",
    "xmin, xmax = plt.xlim()\n",
    "x = np.linspace(xmin, xmax, 100)\n",
    "p = expon.pdf(x, mu, std)\n",
    "plt.plot(x, p,'r', linewidth=1)\n",
    "plt.show()"
   ]
  },
  {
   "cell_type": "markdown",
   "metadata": {},
   "source": [
    "## Weibull Distribution [10]:\n",
    "\n",
    "The Weibull distribution is a continuous probability distribution named after Swedish mathematician Waloddi Weibull.\n",
    "He originally proposed the distribution as a model for material breaking strength,\n",
    "but recognized the potential of the distribution in his 1951 paper A Statistical Distribution Function of Wide Applicability.\n",
    "\n",
    "Today, it’s commonly used to assess product reliability, analyze life data and model failure times.The Weibull can also fit a wide range of data from many other fields, including: biology, economics, engineering sciences, and hydrology (Rinne, 2008)."
   ]
  },
  {
   "cell_type": "code",
   "execution_count": 14,
   "metadata": {},
   "outputs": [
    {
     "data": {
      "image/png": "[encoded data removed]",
      "text/plain": [
       "<matplotlib.figure.Figure at 0x7f521d0>"
      ]
     },
     "metadata": {},
     "output_type": "display_data"
    }
   ],
   "source": [
    "# code from https://docs.scipy.org/doc/numpy-1.15.1/reference/generated/numpy.random.weibull.html#numpy.random.weibull\n",
    "\n",
    "a = 5. # shape\n",
    "s = np.random.weibull(a, 1000)\n",
    "\n",
    "import matplotlib.pyplot as plt\n",
    "x = np.arange(1,100.)/50.\n",
    "def weib(x,n,a):\n",
    "     return (a / n) * (x / n)**(a - 1) * np.exp(-(x / n)**a)\n",
    "\n",
    "count, bins, ignored = plt.hist(np.random.weibull(5.,1000))\n",
    "x = np.arange(1,100.)/50.\n",
    "scale = count.max()/weib(x, 1., 5.).max()\n",
    "plt.plot(x, weib(x, 1., 5.)*scale)\n",
    "plt.show()"
   ]
  },
  {
   "cell_type": "markdown",
   "metadata": {},
   "source": [
    "## Use of seeds in generating pseudorandom numbers:\n",
    "\n",
    "Most random numbers used in computer programs are pseudo-random, which means they are generated in a predictable fashion using a mathematical formula/operation [12].\n",
    "Pseudo-random number generators (PRNG) perform mathematical operations on a number called a “seed.” The mathematical operation(s) are chosen so the resulting number looks entirely different from the “seed.” Most random number generators then use this number or one derived from it to generate the next number [13].....effectively a seed is a number used to initialize a pseudorandom number generator(or start off the sequence).\n",
    "\n",
    "For a seed to be used in a pseudorandom number generator, it does not need to be random. Because of the nature of PRNG, so long as the original seed is ignored, the rest of the values that the algorithm generates will follow probability distribution in a pseudorandom manner.\n",
    "\n",
    "PRNGs are central in applications such as simulations, electronic games and cryptography.\n",
    "\n",
    "Numpy uses a popular and robust pseudorandom number generator called the Mersenne Twister [3].\n",
    "The seed() function will seed the pseudorandom number generator, taking an integer value as an argument, such as 1 or 7. If the seed() function is not called prior to using randomness, the default is to use the current system time in milliseconds from epoch (1970) [1].The use of randomness is an important part of the configuration and evaluation of machine learning algorithms.\n",
    "\n",
    "The following are functions used in random number generators in numpy\n",
    "\n",
    "<img src=\"Images/random.PNG\">\n"
   ]
  },
  {
   "cell_type": "code",
   "execution_count": 15,
   "metadata": {},
   "outputs": [
    {
     "data": {
      "text/plain": [
       "0.23796462709189137"
      ]
     },
     "execution_count": 15,
     "metadata": {},
     "output_type": "execute_result"
    }
   ],
   "source": [
    "# the same seed will result in the same random number\n",
    "# random.random() generates a random number\n",
    "import random\n",
    "random.seed(3) # seeding with a number that is chosen\n",
    "random.random()"
   ]
  },
  {
   "cell_type": "code",
   "execution_count": 16,
   "metadata": {},
   "outputs": [
    {
     "data": {
      "text/plain": [
       "0.23796462709189137"
      ]
     },
     "execution_count": 16,
     "metadata": {},
     "output_type": "execute_result"
    }
   ],
   "source": [
    "random.seed(3) # using the same seed number once again\n",
    "random.random() # generates the same random number as before"
   ]
  },
  {
   "cell_type": "code",
   "execution_count": 17,
   "metadata": {},
   "outputs": [
    {
     "data": {
      "text/plain": [
       "0.5442292252959519"
      ]
     },
     "execution_count": 17,
     "metadata": {},
     "output_type": "execute_result"
    }
   ],
   "source": [
    "random.random() # by not using the same seed or no seed this function will generate a different number every time it is run"
   ]
  },
  {
   "cell_type": "code",
   "execution_count": 18,
   "metadata": {},
   "outputs": [
    {
     "name": "stdout",
     "output_type": "stream",
     "text": [
      "0.5507979025745755\n"
     ]
    }
   ],
   "source": [
    "# RandomState creates a Mersenne Twister random number generator\n",
    "import numpy\n",
    "a = numpy.random.RandomState(3) # seeding with a number that is chosen and binds it to the name a\n",
    "b = a.rand()\n",
    "print(b) # generates the same random number every time it is run"
   ]
  },
  {
   "cell_type": "code",
   "execution_count": 19,
   "metadata": {},
   "outputs": [
    {
     "name": "stdout",
     "output_type": "stream",
     "text": [
      "0.07282415477509374\n"
     ]
    }
   ],
   "source": [
    "b = numpy.random.rand()\n",
    "print(b)"
   ]
  },
  {
   "cell_type": "code",
   "execution_count": 20,
   "metadata": {},
   "outputs": [
    {
     "name": "stdout",
     "output_type": "stream",
     "text": [
      "0.37687704744853645\n"
     ]
    }
   ],
   "source": [
    "# no seeding will generate a different random number each time\n",
    "a = numpy.random.RandomState()\n",
    "b = a.rand() \n",
    "print(b) # generate a different number every time it is run"
   ]
  },
  {
   "cell_type": "markdown",
   "metadata": {},
   "source": [
    "# References:\n",
    "\n",
    "[1] NumPy package (http://www.numpy.org/)\n",
    "\n",
    "[2] Kean University https://www.kean.edu/~fosborne/bstat/04prob.html\n",
    "\n",
    "[3] Wikipedia https://en.wikipedia.org/wiki/Mersenne_Twister\n",
    "\n",
    "[4] Engineering Statistics Handbook https://www.itl.nist.gov/div898/handbook/eda/section3/eda366.htm\n",
    "\n",
    "   <img src=\"Images/Eng.PNG\">\n",
    "\n",
    "[5] Wikipedia https://simple.wikipedia.org/wiki/Poisson_distribution\n",
    "\n",
    "[6] The Reinsurance Actuary https://www.lewiswalsh.net/blog/why-do-we-use-the-poisson-distribution-to-model-claim-frequency\n",
    "\n",
    "[7] Data Science Central https://www.statisticshowto.datasciencecentral.com/probability-and-statistics/binomial-theorem/binomial-distribution-formula/\n",
    "\n",
    "[8] Data Science Central https://www.statisticshowto.datasciencecentral.com/exponential-distribution/\n",
    "\n",
    "[9] investopedia.com https://www.investopedia.com/terms/p/pdf.asp#ixzz5WNrTAFhe \n",
    "\n",
    "[10] Data Science Central https://www.statisticshowto.datasciencecentral.com/weibull-distribution/\n",
    "\n",
    "[12] RANDOM.ORG https://www.random.org/\n",
    "\n",
    "[13] Wikipedia https://en.wikipedia.org/wiki/Random_seed\n",
    "\n",
    "\n",
    "\n"
   ]
  }
 ],
 "metadata": {
  "kernelspec": {
   "display_name": "Python 3",
   "language": "python",
   "name": "python3"
  },
  "language_info": {
   "codemirror_mode": {
    "name": "ipython",
    "version": 3
   },
   "file_extension": ".py",
   "mimetype": "text/x-python",
   "name": "python",
   "nbconvert_exporter": "python",
   "pygments_lexer": "ipython3",
   "version": "3.6.4"
  }
 },
 "nbformat": 4,
 "nbformat_minor": 2
}
